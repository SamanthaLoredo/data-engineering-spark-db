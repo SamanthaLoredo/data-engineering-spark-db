{
 "cells": [
  {
   "cell_type": "markdown",
   "metadata": {},
   "source": [
    "## Different Types of Constraints\n",
    "\n",
    "Let us understand details about different types of constraints used in RDBMS databases.\n",
    "* Supported constraints:\n",
    "  * `NOT NULL` constraint\n",
    "  * `CHECK` constraint\n",
    "  * `UNIQUE` constraint\n",
    "  * `PRIMARY KEY` constraint\n",
    "  * `FOREIGN KEY` constraint\n",
    "* All constraints can be added while creating the table or on pre-created tables using `ALTER`.\n",
    "* Typically we define `NOT NULL`, `CHECK` constraints while creating the tables. However, we can also specify **not null constraints** as well as **check constraints** to the columns while adding columns using `ALTER TABLE`.\n",
    "* `FOREIGN KEY` constraints are created after the tables are created. It is primarily used to define relationship between 2 tables - example: users is parent table and user_login_details is child table with one to many relationship between them.\n",
    "* `PRIMARY KEY` and `UNIQUE` constraints might be added as part of CREATE table statements or ALTER table statements. Both are commonly used practices.\n",
    "* Let us compare and contrast `PRIMARY KEY` and `UNIQUE` constraints.\n",
    "  * There can be only one `PRIMARY KEY` in a table where as there can be any number of `UNIQUE` constraints.\n",
    "  * `UNIQUE` columns can have null values unless `NOT NULL` is also enforced. In case of `PRIMARY KEY`, both uniqueness as well as not null are strictly enforced. In other words a  primary key column cannot be null where as unique column can be null.\n",
    "  * `FOREIGN KEY` from a child table can be defined against `PRIMARY KEY` column or `UNIQUE` column.\n",
    "  * Typically `PRIMARY KEY` columns are surrogate keys which are supported by sequence.\n",
    "  * `PRIMARY KEY` or `UNIQUE` can be composite. It means there can be more than one column to define `PRIMARY KEY` or `UNIQUE` constraint.\n",
    "* Let's take an example of LMS (Learning Management System).\n",
    "  * **USERS** - it contains columns such as `user_id`, `user_fname`, `user_lname` etc. We can enforce primary key constraint on user_id and unique constraint on fields such as user_email_id.\n",
    "  * **COURSES** - it contains columns such as `course_id`, `course_title`, `course_price` etc. Primary key constraint will be enforced on `course_id`.\n",
    "  * **COURSE_ENROLMENTS** - A course enrolment is nothing but an user enrolling for a given course.\n",
    "    * It contains fields such as `enrolment_id`, `user_id`, `course_id`, `sale_date`, `amount_paid` etc.\n",
    "    * Primary key constraint will be enforced on `enrolment_id`.\n",
    "    * A foreign key constraint can be enforced on `course_enrolments.user_id` against `users.user_id`.\n",
    "    * Another foreign key constraint can be enforced on `course_enrolments.course_id`against `courses.course_id`.\n",
    "    * Also we can have unique constraint enforced on `course_enrolments.user_id` and `course_enrolments.course_id`. It will be composite key as it have more than one column."
   ]
  },
  {
   "cell_type": "markdown",
   "metadata": {},
   "source": []
  }
 ],
 "metadata": {
  "kernelspec": {
   "display_name": "Python 3.9.13 ('de-venv': venv)",
   "language": "python",
   "name": "python3"
  },
  "language_info": {
   "codemirror_mode": {
    "name": "ipython",
    "version": 3
   },
   "file_extension": ".py",
   "mimetype": "text/x-python",
   "name": "python",
   "nbconvert_exporter": "python",
   "pygments_lexer": "ipython3",
   "version": "3.9.13"
  },
  "vscode": {
   "interpreter": {
    "hash": "21cbb09f01f019d5f6b1cf249e417ce80e445d4c227fbeb2062a530f0435c64e"
   }
  }
 },
 "nbformat": 4,
 "nbformat_minor": 4
}
