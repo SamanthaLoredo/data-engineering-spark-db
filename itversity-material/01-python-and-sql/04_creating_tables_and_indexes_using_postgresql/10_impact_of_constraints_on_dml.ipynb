{
 "cells": [
  {
   "cell_type": "markdown",
   "metadata": {},
   "source": [
    "## Impact of Constraints on DML\n",
    "\n",
    "Let us understand the impact of constraints on DML Operations such as `INSERT`, `UPDATE`, and `DELETE`.\n",
    "* RDBMS Databases are nothing but softwares which are developed by Software Engineers like us.\n",
    "* Database Commands or Statements are user friendly way of dealing with objects such as tables, indexes as well as data in those objects.\n",
    "* Here are some of the details about what happens when we issue Database Commands or Statements in general.\n",
    "  * Compile the Database Command or Statement into low level code(Syntax Checks and Semantec Checks).\n",
    "  * Execute the low level code. Execution typically involves quite a lot of internal validations based on the command issues.\n",
    "* Now let us understand what all internal validations are done when we perform DML operation on a table such as `INSERT`, `UPDATE`, and `DELETE`.\n",
    "  * Data Type checks and checks for length\n",
    "  * Constraint Checks (`NOT NULL`, `CHECK`, `UNIQUE`, etc)\n",
    "* If any of the constraints fail, then the exceptions will be raised.\n",
    "* To enforce `UNIQUE` constraints, data in the database tables is supposed to be processed on each and every operation at record level.\n",
    "* On top of validations, when the DML Statements or Commands are executed it will take care of assigning default values, sequence generated numbers, etc if they are applicable.\n",
    "\n",
    "> Due to the validations, there will be overhead when DML Operations are performed.\n"
   ]
  },
  {
   "cell_type": "markdown",
   "metadata": {},
   "source": []
  }
 ],
 "metadata": {
  "kernelspec": {
   "display_name": "Python 3.9.13 ('de-venv': venv)",
   "language": "python",
   "name": "python3"
  },
  "language_info": {
   "name": "python",
   "version": "3.9.13"
  },
  "orig_nbformat": 4,
  "vscode": {
   "interpreter": {
    "hash": "21cbb09f01f019d5f6b1cf249e417ce80e445d4c227fbeb2062a530f0435c64e"
   }
  }
 },
 "nbformat": 4,
 "nbformat_minor": 2
}
