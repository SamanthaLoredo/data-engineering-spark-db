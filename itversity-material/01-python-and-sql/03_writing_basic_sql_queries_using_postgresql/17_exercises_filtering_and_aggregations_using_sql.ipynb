{
 "cells": [
  {
   "cell_type": "markdown",
   "metadata": {},
   "source": [
    "## Exercises - Filtering and Aggregations using SQL\n",
    "\n",
    "Let us take care of exercises related to filtering and aggregations using SQL.\n",
    "* Get all the courses which are in `inactive` or `draft` state.\n",
    "* Get all the courses which are related to `Python` or `Scala`.\n",
    "* Get count of courses by `course_status`.\n",
    "* Get count of `published` courses by `course_author`.\n",
    "* Get all the `Python` or `Scala` related courses in `draft` status.\n",
    "* Get the author and count where the author have more than **one published** course."
   ]
  },
  {
   "cell_type": "markdown",
   "metadata": {},
   "source": []
  }
 ],
 "metadata": {
  "language_info": {
   "name": "python"
  },
  "orig_nbformat": 4
 },
 "nbformat": 4,
 "nbformat_minor": 2
}
