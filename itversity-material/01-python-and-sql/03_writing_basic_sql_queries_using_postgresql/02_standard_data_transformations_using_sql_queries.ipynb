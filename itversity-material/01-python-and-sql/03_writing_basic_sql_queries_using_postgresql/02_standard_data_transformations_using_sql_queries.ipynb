{
 "cells": [
  {
   "cell_type": "markdown",
   "metadata": {},
   "source": [
    "## Standard Data Transformations using SQL Queries\n",
    "\n",
    "Here are some of the transformations we typically perform on regular basis.\n",
    "* Projection of data\n",
    "* Filtering data\n",
    "* Performing Aggregations\n",
    "* Joins\n",
    "* Sorting\n",
    "* Advanced Aggregations, Windowing Functions, and Analytical Functions (will be covered as part of advanced queries)\n",
    "\n",
    "Here are the examples for Standard Data Transformations.\n",
    "* Selection or Projection – `SELECT` clause\n",
    "  * It is also called as row level transformations.\n",
    "  * Apply standardization rules (convert names and addresses to upper case).\n",
    "  * Mask partial data (SSN and Date of births).\n",
    "* Filtering data – `WHERE` clause\n",
    "  * Get orders based on date or product or category.\n",
    "* Joins – `JOIN` (supports outer join as well)\n",
    "  * Join multiple data sets.\n",
    "* Aggregations – `GROUP BY` and aggregations with support of functions such as `sum`, `avg`, `min`, `max` etc\n",
    "  * Get revenue for a given order\n",
    "  * Get revenue for each order\n",
    "  * Get daily revenue\n",
    "* Sorting – `ORDER BY`\n",
    "  * Sort the final output by date.\n",
    "  * Sort the final output by date, then by revenue in descending order.\n",
    "  * Sort the final output by state or province, then by revenue in descending order.\n",
    "* Advanced Aggregations, Windowing Functions, and Analytical Functions\n",
    "  * Get top 5 stores by revenue for each state.\n",
    "  * Get top 5 products by revenue in each category."
   ]
  },
  {
   "cell_type": "code",
   "execution_count": 1,
   "metadata": {},
   "outputs": [],
   "source": [
    "%load_ext sql"
   ]
  },
  {
   "cell_type": "code",
   "execution_count": 2,
   "metadata": {},
   "outputs": [
    {
     "name": "stdout",
     "output_type": "stream",
     "text": [
      "3 rows affected.\n"
     ]
    },
    {
     "data": {
      "text/html": [
       "<table>\n",
       "    <tr>\n",
       "        <th>user_id</th>\n",
       "        <th>user_first_name</th>\n",
       "        <th>user_last_name</th>\n",
       "        <th>user_email_id</th>\n",
       "        <th>user_email_validated</th>\n",
       "        <th>user_password</th>\n",
       "        <th>user_role</th>\n",
       "        <th>is_active</th>\n",
       "        <th>created_ts</th>\n",
       "        <th>last_updated_ts</th>\n",
       "    </tr>\n",
       "    <tr>\n",
       "        <td>10</td>\n",
       "        <td>Mickey</td>\n",
       "        <td>Mouse</td>\n",
       "        <td>mickey@mouse.com</td>\n",
       "        <td>False</td>\n",
       "        <td>None</td>\n",
       "        <td>U</td>\n",
       "        <td>True</td>\n",
       "        <td>2022-09-15 04:27:44.099187</td>\n",
       "        <td>2022-09-15 04:27:44.099187</td>\n",
       "    </tr>\n",
       "    <tr>\n",
       "        <td>11</td>\n",
       "        <td>Gordan</td>\n",
       "        <td>Bradock</td>\n",
       "        <td>gbradock0@barnesandnoble.com</td>\n",
       "        <td>False</td>\n",
       "        <td>h9LAz7p7ub</td>\n",
       "        <td>U</td>\n",
       "        <td>True</td>\n",
       "        <td>2022-09-15 04:27:46.716764</td>\n",
       "        <td>2022-09-15 04:27:46.716764</td>\n",
       "    </tr>\n",
       "    <tr>\n",
       "        <td>12</td>\n",
       "        <td>Tobe</td>\n",
       "        <td>Lyness</td>\n",
       "        <td>tlyness1@paginegialle.it</td>\n",
       "        <td>False</td>\n",
       "        <td>oEofndp</td>\n",
       "        <td>U</td>\n",
       "        <td>True</td>\n",
       "        <td>2022-09-15 04:27:46.716764</td>\n",
       "        <td>2022-09-15 04:27:46.716764</td>\n",
       "    </tr>\n",
       "</table>"
      ],
      "text/plain": [
       "[(10, 'Mickey', 'Mouse', 'mickey@mouse.com', False, None, 'U', True, datetime.datetime(2022, 9, 15, 4, 27, 44, 99187), datetime.datetime(2022, 9, 15, 4, 27, 44, 99187)),\n",
       " (11, 'Gordan', 'Bradock', 'gbradock0@barnesandnoble.com', False, 'h9LAz7p7ub', 'U', True, datetime.datetime(2022, 9, 15, 4, 27, 46, 716764), datetime.datetime(2022, 9, 15, 4, 27, 46, 716764)),\n",
       " (12, 'Tobe', 'Lyness', 'tlyness1@paginegialle.it', False, 'oEofndp', 'U', True, datetime.datetime(2022, 9, 15, 4, 27, 46, 716764), datetime.datetime(2022, 9, 15, 4, 27, 46, 716764))]"
      ]
     },
     "execution_count": 2,
     "metadata": {},
     "output_type": "execute_result"
    }
   ],
   "source": [
    "%%sql\n",
    "\n",
    "SELECT * FROM users\n",
    "ORDER BY user_id"
   ]
  },
  {
   "cell_type": "code",
   "execution_count": null,
   "metadata": {},
   "outputs": [],
   "source": []
  }
 ],
 "metadata": {
  "kernelspec": {
   "display_name": "Python 3.9.12 ('de-venv': venv)",
   "language": "python",
   "name": "python3"
  },
  "language_info": {
   "codemirror_mode": {
    "name": "ipython",
    "version": 3
   },
   "file_extension": ".py",
   "mimetype": "text/x-python",
   "name": "python",
   "nbconvert_exporter": "python",
   "pygments_lexer": "ipython3",
   "version": "3.9.12"
  },
  "vscode": {
   "interpreter": {
    "hash": "21cbb09f01f019d5f6b1cf249e417ce80e445d4c227fbeb2062a530f0435c64e"
   }
  }
 },
 "nbformat": 4,
 "nbformat_minor": 4
}
