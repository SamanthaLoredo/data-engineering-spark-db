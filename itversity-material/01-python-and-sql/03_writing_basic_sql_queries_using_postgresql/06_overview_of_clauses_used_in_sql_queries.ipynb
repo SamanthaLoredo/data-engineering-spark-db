{
 "cells": [
  {
   "cell_type": "markdown",
   "metadata": {},
   "source": [
    "## Overview of Clauses used in SQL Queries\n",
    "\n",
    "* **TBD: Material needs to be prepared**\n",
    "* Common Clauses used to write Basic SQL Queries.\n",
    "* Order of Clauses while writing SQL Queries.\n",
    "* Order of execution is different from order of writing SQL Queries.\n",
    "* We will go through the details about order of execution towards the end of this section or module."
   ]
  },
  {
   "cell_type": "markdown",
   "metadata": {},
   "source": []
  }
 ],
 "metadata": {
  "kernelspec": {
   "display_name": "Python 3.9.12 ('de-venv': venv)",
   "language": "python",
   "name": "python3"
  },
  "language_info": {
   "name": "python",
   "version": "3.9.12"
  },
  "orig_nbformat": 4,
  "vscode": {
   "interpreter": {
    "hash": "21cbb09f01f019d5f6b1cf249e417ce80e445d4c227fbeb2062a530f0435c64e"
   }
  }
 },
 "nbformat": 4,
 "nbformat_minor": 2
}
